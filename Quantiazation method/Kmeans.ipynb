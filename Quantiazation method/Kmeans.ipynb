import torch
import torch.nn as nn
import torch.nn.functional as F
import numpy as np
from sklearn.model_selection import train_test_split
from sklearn.cluster import KMeans
from sklearn import metrics
import matplotlib.pyplot as plt
base_model = torch.load("Best Model CrossEntropyLoss")
base_model_state_dict = base_model['model_state_dict']
a =np.array([]).reshape(-1,1)
shape = []
reshape = []
name = []

for k, v in base_model_state_dict.items():
    if k.startswith('layers.17') == True:
        shape.append(v.cpu().numpy().shape)
        name.append(k)
        reshape.append(v.cpu().numpy().reshape(-1,1).shape)
        a = np.vstack((a,v.cpu().numpy().reshape(-1,1)))
a = np.hstack((base_model_state_dict['net.0.weight'].cpu().numpy(),base_model_state_dict['net.0.bias'].cpu().numpy().reshape(-1,1)))
a = a.reshape(-1,1)

k_means = KMeans(n_clusters=128) 

k_means.fit(a)
y_predict = k_means.predict(a)

plt.scatter(a[:,0],a[:,0],c=y_predict)
print(k_means.cluster_centers_)
for i in range(len(y_predict)):
    a[i] = [k_means.cluster_centers_[int(y_predict[i])]]
    
z = 0
for i in range(len(shape)):
    if i>0:
        base_model_state_dict[name[i]] = torch.tensor(a[z : z + int(reshape[i][0])].reshape(shape[i]))
        z += int(reshape[i][0])
    else:
        base_model_state_dict[name[i]] = torch.tensor(a[0:int(reshape[0][0])].reshape(shape[i]))
        z = int(reshape[0][0])
